{
 "cells": [
  {
   "cell_type": "code",
   "execution_count": 1,
   "id": "3281d374-8995-4908-851b-8f0ac8f1c8af",
   "metadata": {},
   "outputs": [],
   "source": [
    "import torchvision\n",
    "import torch\n",
    "import math\n",
    "import numpy as np\n",
    "from sklearn.model_selection import train_test_split\n",
    "import os"
   ]
  },
  {
   "cell_type": "markdown",
   "id": "5f301642-357f-43e3-850f-fb228651e5c2",
   "metadata": {},
   "source": [
    "### Load Semeion Dataset"
   ]
  },
  {
   "cell_type": "code",
   "execution_count": 8,
   "id": "4818b1de-25e3-48c7-bade-cf40f15dc7fa",
   "metadata": {},
   "outputs": [],
   "source": [
    "def load_dataset():\n",
    "    semeion_data = torchvision.datasets.SEMEION(root='../data', download=True)\n",
    "    dataset_name = 'semeion'\n",
    "    data, label = semeion_data.data, semeion_data.labels\n",
    "    #data = data/255*math.pi/8 # pi/2\n",
    "    #data = data/255*math.pi/4\n",
    "    data = data/255*math.pi/4\n",
    "    n_qubits = 8\n",
    "    n_class = len(np.unique(label))\n",
    "    \n",
    "    data = data.reshape(-1,data.shape[1]*data.shape[2])\n",
    "    data = torch.from_numpy(data)\n",
    "    label = torch.from_numpy(label)\n",
    "\n",
    "    return data, label"
   ]
  },
  {
   "cell_type": "markdown",
   "id": "7e38a1a3-ba8a-481a-aa6c-4bb12146eb1d",
   "metadata": {},
   "source": [
    "### Create permutation"
   ]
  },
  {
   "cell_type": "code",
   "execution_count": 13,
   "id": "a608ba18-e889-4f01-85b3-0e184da6afcb",
   "metadata": {},
   "outputs": [],
   "source": [
    "def create_permutation(seed, data):\n",
    "    torch.manual_seed(seed)\n",
    "    perm_indices = torch.randperm(data.shape[1])\n",
    "    permuted_data = data[:, perm_indices]\n",
    "\n",
    "    return perm_indices, permuted_data"
   ]
  },
  {
   "cell_type": "markdown",
   "id": "991b237e-f754-49ed-9b3e-767d9c446a77",
   "metadata": {},
   "source": [
    "### Create train test partition & train dataloader"
   ]
  },
  {
   "cell_type": "code",
   "execution_count": 17,
   "id": "a7868170-e6ea-4329-b487-1aa983c11bcb",
   "metadata": {},
   "outputs": [],
   "source": [
    "def create_train_test_partition(data, label, test_size, random_seed):\n",
    "    data_tr, data_te, label_tr, label_te = train_test_split(\n",
    "        data, label, test_size=test_size, stratify=label, random_state=random_seed\n",
    "        )   \n",
    "    return data_tr, data_te, label_tr, label_te\n"
   ]
  },
  {
   "cell_type": "markdown",
   "id": "ada558e4-82ec-4a51-9469-faab9c997aad",
   "metadata": {},
   "source": [
    "## Create and Save Data Exps"
   ]
  },
  {
   "cell_type": "code",
   "execution_count": 44,
   "id": "c6ecebc4-6bef-4ef8-8e93-526a3a13cfcb",
   "metadata": {},
   "outputs": [],
   "source": [
    "def create_n_save_data(save_path, permutation_seed=42, test_size=0.2, partition_seed=42):\n",
    "    # Load Dataset\n",
    "    data, label = load_dataset()\n",
    "    \n",
    "    # Create permutated dataset\n",
    "    perm_indices, permuted_data = create_permutation(permutation_seed, data)\n",
    "    \n",
    "    # Create train test partition\n",
    "    data_tr, data_te, label_tr, label_te = create_train_test_partition(\n",
    "        permuted_data, \n",
    "        label, test_size=test_size, \n",
    "        random_seed=partition_seed)\n",
    "\n",
    "    # Save data tensors into .pt file\n",
    "    data_tensors_path = save_path+\"/\"+\"data_tensors.pt\"\n",
    "    torch.save({\n",
    "        \"data_tr\": data_tr,\n",
    "        \"label_tr\": label_tr,\n",
    "        \"data_te\": data_te,\n",
    "        \"label_te\": label_te,\n",
    "    }, data_tensors_path)\n",
    "\n",
    "    \n",
    "    params = {\n",
    "        \"permutation_seed\": permutation_seed,\n",
    "        \"test_size\": test_size,\n",
    "        \"partition_seed\": partition_seed,\n",
    "        \"n_class\": len(np.unique(label_te)),\n",
    "        \"data_tensors\": data_tensors_path\n",
    "    }\n",
    "\n",
    "    data_config_path = save_path+\"/\"+\"data_config.json\"\n",
    "    with open(data_config_path, \"w\") as f:\n",
    "        json.dump(params, f, indent=4)\n",
    "\n",
    "    \n",
    "\n",
    "    print(f\"Data settings files saved in {save_path}\")"
   ]
  },
  {
   "cell_type": "code",
   "execution_count": 45,
   "id": "c1f89bbb-ff50-4b25-9bf0-4354b415f96b",
   "metadata": {},
   "outputs": [
    {
     "name": "stdout",
     "output_type": "stream",
     "text": [
      "Files already downloaded and verified\n",
      "Data settings files saved in ../exps/Setting_1\n"
     ]
    }
   ],
   "source": [
    "setting = \"Setting_1\"\n",
    "root = \"../exps\"\n",
    "path = os.path.join(root, setting)\n",
    "os.makedirs(path, exist_ok=True)\n",
    "\n",
    "create_n_save_data(path)"
   ]
  }
 ],
 "metadata": {
  "kernelspec": {
   "display_name": "disq",
   "language": "python",
   "name": "disq"
  },
  "language_info": {
   "codemirror_mode": {
    "name": "ipython",
    "version": 3
   },
   "file_extension": ".py",
   "mimetype": "text/x-python",
   "name": "python",
   "nbconvert_exporter": "python",
   "pygments_lexer": "ipython3",
   "version": "3.10.15"
  }
 },
 "nbformat": 4,
 "nbformat_minor": 5
}
