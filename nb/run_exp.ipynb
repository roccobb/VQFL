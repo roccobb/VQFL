{
 "cells": [
  {
   "cell_type": "code",
   "execution_count": 1,
   "id": "921df8f1-ba25-4a55-ad57-149a66c98f1d",
   "metadata": {},
   "outputs": [],
   "source": [
    "import torch\n",
    "import json\n",
    "import os\n",
    "import warnings\n",
    "\n",
    "warnings.simplefilter(\"ignore\")"
   ]
  },
  {
   "cell_type": "code",
   "execution_count": 9,
   "id": "6dbb5575-5ed4-4b27-871d-a595b9e7cc78",
   "metadata": {},
   "outputs": [],
   "source": [
    "def load_data_setting(setting):\n",
    "    folder = \"../exps\"\n",
    "    json_file = \"data_config.json\"\n",
    "    json_path = os.path.join(folder, setting, json_file)\n",
    "    with open(json_path, \"r\") as f:\n",
    "        config = json.load(f)\n",
    "\n",
    "    permutation_seed = config[\"permutation_seed\"]\n",
    "    test_size = config[\"test_size\"]\n",
    "    partition_seed = config[\"partition_seed\"]\n",
    "    n_class = config[\"n_class\"]\n",
    "    \n",
    "    data_tensors = config[\"data_tensors\"]\n",
    "    loaded_data_tensors = torch.load(data_tensors)\n",
    "    data_tr = loaded_data_tensors[\"data_tr\"]\n",
    "    label_tr = loaded_data_tensors[\"label_tr\"]\n",
    "    data_te = loaded_data_tensors[\"data_te\"]\n",
    "    label_te = loaded_data_tensors[\"label_te\"]\n",
    "\n",
    "    return permutation_seed, test_size, partition_seed, n_class, data_tr, label_tr, data_te, label_te"
   ]
  },
  {
   "cell_type": "code",
   "execution_count": 10,
   "id": "2e2cecf1-84f7-41d8-847d-d095dc705750",
   "metadata": {},
   "outputs": [],
   "source": [
    "permutation_seed, test_size, partition_seed, n_class, data_tr, label_tr, data_te, label_te = load_data_setting(\"Setting_1\")"
   ]
  },
  {
   "cell_type": "code",
   "execution_count": 11,
   "id": "4d22582c-32ff-4bbf-8660-6ff1cffd58d7",
   "metadata": {},
   "outputs": [
    {
     "data": {
      "text/plain": [
       "10"
      ]
     },
     "execution_count": 11,
     "metadata": {},
     "output_type": "execute_result"
    }
   ],
   "source": [
    "n_class"
   ]
  },
  {
   "cell_type": "code",
   "execution_count": null,
   "id": "14b84df3-ac86-4110-8499-0448cd09ea3d",
   "metadata": {},
   "outputs": [],
   "source": []
  },
  {
   "cell_type": "code",
   "execution_count": null,
   "id": "a1b8df8b-432c-4d2a-870c-1618d1e935e5",
   "metadata": {},
   "outputs": [],
   "source": []
  }
 ],
 "metadata": {
  "kernelspec": {
   "display_name": "disq",
   "language": "python",
   "name": "disq"
  },
  "language_info": {
   "codemirror_mode": {
    "name": "ipython",
    "version": 3
   },
   "file_extension": ".py",
   "mimetype": "text/x-python",
   "name": "python",
   "nbconvert_exporter": "python",
   "pygments_lexer": "ipython3",
   "version": "3.10.15"
  }
 },
 "nbformat": 4,
 "nbformat_minor": 5
}
